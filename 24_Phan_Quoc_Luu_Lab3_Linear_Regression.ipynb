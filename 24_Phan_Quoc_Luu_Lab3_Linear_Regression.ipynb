{
 "cells": [
  {
   "cell_type": "markdown",
   "metadata": {},
   "source": [
    "# Lab 3 - Linear Regression\n",
    "\n",
    "\n",
    "- Your name: Phan Quốc Lưu\n",
    "\n",
    "- Your student code: 20133065"
   ]
  },
  {
   "cell_type": "markdown",
   "metadata": {},
   "source": [
    "## I. Hướng dẫn"
   ]
  },
  {
   "cell_type": "markdown",
   "metadata": {},
   "source": [
    "### 1.1. Khởi tạo Spark"
   ]
  },
  {
   "cell_type": "code",
   "execution_count": 115,
   "metadata": {},
   "outputs": [],
   "source": [
    "import findspark\n",
    "findspark.init()\n",
    "\n",
    "import pyspark\n",
    "findspark.find()\n",
    "\n",
    "from pyspark.sql import SparkSession\n",
    "from pyspark.sql.functions import count\n",
    "\n",
    "spark = (SparkSession\n",
    "         .builder\n",
    "         .appName(\"Linear Regression\")\n",
    "         .getOrCreate())"
   ]
  },
  {
   "cell_type": "markdown",
   "metadata": {},
   "source": [
    "### 1.2. Đọc và load tập dữ liệu Boston housing"
   ]
  },
  {
   "cell_type": "code",
   "execution_count": 116,
   "metadata": {},
   "outputs": [
    {
     "name": "stdout",
     "output_type": "stream",
     "text": [
      "+-------+----+-----+----+-----+-----+----+------+---+---+-------+------+-----+----+\n",
      "|   crim|  zn|indus|chas|  nox|   rm| age|   dis|rad|tax|ptratio|     b|lstat|medv|\n",
      "+-------+----+-----+----+-----+-----+----+------+---+---+-------+------+-----+----+\n",
      "|0.00632|18.0| 2.31|   0|0.538|6.575|65.2|  4.09|  1|296|   15.3| 396.9| 4.98|24.0|\n",
      "|0.02731| 0.0| 7.07|   0|0.469|6.421|78.9|4.9671|  2|242|   17.8| 396.9| 9.14|21.6|\n",
      "|0.02729| 0.0| 7.07|   0|0.469|7.185|61.1|4.9671|  2|242|   17.8|392.83| 4.03|34.7|\n",
      "|0.03237| 0.0| 2.18|   0|0.458|6.998|45.8|6.0622|  3|222|   18.7|394.63| 2.94|33.4|\n",
      "|0.06905| 0.0| 2.18|   0|0.458|7.147|54.2|6.0622|  3|222|   18.7| 396.9| 5.33|36.2|\n",
      "+-------+----+-----+----+-----+-----+----+------+---+---+-------+------+-----+----+\n",
      "only showing top 5 rows\n",
      "\n"
     ]
    }
   ],
   "source": [
    "bostonDF = (spark.read\n",
    "            .option(\"HEADER\", True)\n",
    "            .option(\"inferSchema\", True)\n",
    "            .csv(\"./data/BostonHousing.csv\")\n",
    "           )\n",
    "\n",
    "bostonDF.show(5)"
   ]
  },
  {
   "cell_type": "markdown",
   "metadata": {},
   "source": [
    "### 1.3. Giới thiệu tập dữ liệu Boston housing\n",
    "\n",
    "`crim`: per capita crime rate by town.\n",
    "\n",
    "`zn`: proportion of residential land zoned for lots over 25,000 sq.ft.\n",
    "\n",
    "`indus`: proportion of non-retail business acres per town.\n",
    "\n",
    "`chas`: Charles River dummy variable (= 1 if tract bounds river; 0 otherwise).\n",
    "\n",
    "`nox`: nitrogen oxides concentration (parts per 10 million).\n",
    "\n",
    "`rm`: average number of rooms per dwelling.\n",
    "\n",
    "`age`: proportion of owner-occupied units built prior to 1940.\n",
    "\n",
    "`dis`: weighted mean of distances to five Boston employment centres.\n",
    "\n",
    "`rad`: index of accessibility to radial highways.\n",
    "\n",
    "`tax`: full-value property-tax rate per 10,000 dollars.\n",
    "\n",
    "`ptratio`: pupil-teacher ratio by town.\n",
    "\n",
    "`b` (`black`): $1000(Bk - 0.63)^2$ where $Bk$ is the proportion of blacks by town.\n",
    "\n",
    "`lstat`: lower status of the population (percent).\n",
    "\n",
    "`medv`: median value of owner-occupied homes in 1000 dollars."
   ]
  },
  {
   "cell_type": "markdown",
   "metadata": {},
   "source": [
    "### 1.4. Tạo các biến input (features) và output (label)"
   ]
  },
  {
   "cell_type": "markdown",
   "metadata": {},
   "source": [
    "Spark khác với nhiều machine learning framework khác ở chỗ ta cần huấn luyện mô hình của mình trên một cột duy nhất có chứa một vectơ gồm tất cả các feature (attribute) mà ta quan tâm. Ta sẽ chuẩn bị dữ liệu bằng cách tạo một cột có tên `features` gồm các thuộc tính `rm` (average number of rooms), `crim` (crime rate),  và `lstat` (lower status of the population).\n",
    "\n",
    "Thêm cột `features` vừa tạo vào data frame sử dụng `VectorAssembler`:"
   ]
  },
  {
   "cell_type": "code",
   "execution_count": 117,
   "metadata": {},
   "outputs": [
    {
     "name": "stdout",
     "output_type": "stream",
     "text": [
      "+-------+----+-----+----+-----+-----+----+------+---+---+-------+------+-----+----+--------------------+\n",
      "|   crim|  zn|indus|chas|  nox|   rm| age|   dis|rad|tax|ptratio|     b|lstat|medv|            features|\n",
      "+-------+----+-----+----+-----+-----+----+------+---+---+-------+------+-----+----+--------------------+\n",
      "|0.00632|18.0| 2.31|   0|0.538|6.575|65.2|  4.09|  1|296|   15.3| 396.9| 4.98|24.0|[6.575,0.00632,4.98]|\n",
      "|0.02731| 0.0| 7.07|   0|0.469|6.421|78.9|4.9671|  2|242|   17.8| 396.9| 9.14|21.6|[6.421,0.02731,9.14]|\n",
      "|0.02729| 0.0| 7.07|   0|0.469|7.185|61.1|4.9671|  2|242|   17.8|392.83| 4.03|34.7|[7.185,0.02729,4.03]|\n",
      "|0.03237| 0.0| 2.18|   0|0.458|6.998|45.8|6.0622|  3|222|   18.7|394.63| 2.94|33.4|[6.998,0.03237,2.94]|\n",
      "|0.06905| 0.0| 2.18|   0|0.458|7.147|54.2|6.0622|  3|222|   18.7| 396.9| 5.33|36.2|[7.147,0.06905,5.33]|\n",
      "+-------+----+-----+----+-----+-----+----+------+---+---+-------+------+-----+----+--------------------+\n",
      "only showing top 5 rows\n",
      "\n"
     ]
    }
   ],
   "source": [
    "from pyspark.ml.feature import VectorAssembler\n",
    "\n",
    "featureCols = [\"rm\", \"crim\", \"lstat\"]\n",
    "assembler = VectorAssembler(inputCols = featureCols, outputCol = \"features\")\n",
    "bostonFeaturizedDF = assembler.transform(bostonDF)\n",
    "\n",
    "bostonFeaturizedDF.show(5)"
   ]
  },
  {
   "cell_type": "markdown",
   "metadata": {},
   "source": [
    "### 1.5. Tạo mô hình Linear Regression"
   ]
  },
  {
   "cell_type": "markdown",
   "metadata": {},
   "source": [
    "Import thư viện linear regression và thiết lập output là thuộc tính `medv`, input là `features`. Tham khảo thêm về các tham số của thư viện LinearRegression ở [đây](https://spark.apache.org/docs/latest/api/python/reference/api/pyspark.ml.regression.LinearRegression.html#pyspark.ml.regression.LinearRegression)."
   ]
  },
  {
   "cell_type": "code",
   "execution_count": 118,
   "metadata": {},
   "outputs": [],
   "source": [
    "from pyspark.ml.regression import LinearRegression\n",
    "\n",
    "lr = LinearRegression(labelCol = \"medv\", featuresCol = \"features\")"
   ]
  },
  {
   "cell_type": "markdown",
   "metadata": {},
   "source": [
    "### 1.6. Fit mô hình với data"
   ]
  },
  {
   "cell_type": "code",
   "execution_count": 119,
   "metadata": {},
   "outputs": [],
   "source": [
    "lrModel = lr.fit(bostonFeaturizedDF)"
   ]
  },
  {
   "cell_type": "markdown",
   "metadata": {},
   "source": [
    "### 1.7. Xem các tham số của mô hình sau khi đã fit với data"
   ]
  },
  {
   "cell_type": "code",
   "execution_count": 120,
   "metadata": {},
   "outputs": [
    {
     "name": "stdout",
     "output_type": "stream",
     "text": [
      "Coefficients: 5.2, -0.1, -0.6\n",
      "Intercept: -2.6\n"
     ]
    }
   ],
   "source": [
    "print(\"Coefficients: {0:.1f}, {1:.1f}, {2:.1f}\".format(*lrModel.coefficients))\n",
    "print(\"Intercept: {0:.1f}\".format(lrModel.intercept))"
   ]
  },
  {
   "cell_type": "markdown",
   "metadata": {},
   "source": [
    "**Ý nghĩa**: $predicted\\_medv = (5.2 * rm) - (0.1 * crim) - (0.6 * lstat) - 2.6$\n",
    "\n",
    "hay $predicted\\_medv = (5.2 * number\\_of\\_rooms) - (0.1 * crime\\_rate) - (0.6 * lower\\_class) - 2.6$"
   ]
  },
  {
   "cell_type": "markdown",
   "metadata": {},
   "source": [
    "Hai độ đo đánh giá thường được dùng là Root Mean Squared Error (RMSE) và R-Squared score ($R^2$).\n",
    "\n",
    "$$RMSE(y, \\hat{y}) = \\sqrt{\\frac{1}{n} \\sum_{i=1}^{n} (y_i - \\hat{y_i})^2}$$\n",
    "\n",
    "$$R^2 = 1 - \\frac{\\sum_{i=1}^{n} (y_i - \\hat{y_i})^2}{\\sum_{i=1}^{n} (y_i - \\overline{y})^2}$$\n",
    "\n",
    "Trong đó:\n",
    "\n",
    "- $\\hat{y_i}$ là giá trị mà mô hình dự đoán cho $x_i$\n",
    "    \n",
    "- $y_i$ là output thật sự cho $x_i$\n",
    "    \n",
    "- $n$ là số lượng phần tử trong tập dữ liệu\n",
    "    \n",
    "- $\\overline{y} = \\frac{1}{n} \\sum_{i=1}^{n} y_i$"
   ]
  },
  {
   "cell_type": "code",
   "execution_count": 121,
   "metadata": {},
   "outputs": [
    {
     "name": "stdout",
     "output_type": "stream",
     "text": [
      "R-Squared score: 0.6458520515781128\n"
     ]
    }
   ],
   "source": [
    "print(\"R-Squared score: {}\".format(lrModel.summary.r2))"
   ]
  },
  {
   "cell_type": "markdown",
   "metadata": {},
   "source": [
    "**Ý nghĩa**: mô hình có thể giải thích khoảng $65 \\%$ sự biến thiên (variance) trong dữ liệu. "
   ]
  },
  {
   "cell_type": "markdown",
   "metadata": {},
   "source": [
    "Một số độ đo và chỉ số khác:"
   ]
  },
  {
   "cell_type": "code",
   "execution_count": 122,
   "metadata": {},
   "outputs": [
    {
     "name": "stdout",
     "output_type": "stream",
     "text": [
      "MAE score: 3.8912949765069533\n",
      "RMSE score: 5.4678160740273904\n",
      "Coefficient Standard Errors: [0.4420347151349426, 0.032022216026543225, 0.047669471406803186, 3.1660227928472815]\n",
      "T Values: [11.80213848770088, -3.214670921988156, -12.135352093519293, -0.809296451597215]\n",
      "P Values: [0.0, 0.0013900026454840564, 0.0, 0.41872805807610836]\n"
     ]
    }
   ],
   "source": [
    "lrModelSummary = lrModel.summary\n",
    "\n",
    "print(\"MAE score: {}\".format(lrModelSummary.meanAbsoluteError))\n",
    "print(\"RMSE score: {}\".format(lrModelSummary.rootMeanSquaredError))\n",
    "print(\"Coefficient Standard Errors: \" + str(lrModelSummary.coefficientStandardErrors))\n",
    "print(\"T Values: \" + str(lrModelSummary.tValues))\n",
    "print(\"P Values: \" + str(lrModelSummary.pValues))"
   ]
  },
  {
   "cell_type": "markdown",
   "metadata": {},
   "source": [
    "Các chỉ số `Standard Errors`, `t-values`, `p-values` liên quan đến ý nghĩa thống kê (statistically significant) của các hệ số (tham số) của mô hình. Xem thêm về diễn giải của các chỉ số này ở [đây](https://dss.princeton.edu/online_help/analysis/interpreting_regression.htm) hoặc [đây](https://boostedml.com/2019/06/linear-regression-in-r-interpreting-summarylm.html)."
   ]
  },
  {
   "cell_type": "markdown",
   "metadata": {},
   "source": [
    "### 1.8. Sử dụng mô hình\n",
    "\n",
    "Chọn ra 10 dòng dữ liệu đầu tiên (xem như nó là dữ liệu mới). Ta sẽ xem dự đoán của mô hình trên 10 dòng dữ liệu này và cho sánh nó với giá trị thực tế."
   ]
  },
  {
   "cell_type": "code",
   "execution_count": 123,
   "metadata": {},
   "outputs": [
    {
     "name": "stdout",
     "output_type": "stream",
     "text": [
      "+--------------------+----+\n",
      "|            features|medv|\n",
      "+--------------------+----+\n",
      "|[6.575,0.00632,4.98]|24.0|\n",
      "|[6.421,0.02731,9.14]|21.6|\n",
      "|[7.185,0.02729,4.03]|34.7|\n",
      "|[6.998,0.03237,2.94]|33.4|\n",
      "|[7.147,0.06905,5.33]|36.2|\n",
      "+--------------------+----+\n",
      "only showing top 5 rows\n",
      "\n"
     ]
    }
   ],
   "source": [
    "subsetDF = (bostonFeaturizedDF\n",
    "            .limit(10)\n",
    "            .select(\"features\", \"medv\")\n",
    "           )\n",
    "\n",
    "subsetDF.show(5)"
   ]
  },
  {
   "cell_type": "markdown",
   "metadata": {},
   "source": [
    "Sử dụng phương thức `transform` trên mô hình được huấn luyện để xem dự đoán của nó.\n",
    "\n",
    "`lrModel` là một estimator, ta có thể biến đổi dữ liệu bằng cách sử dụng phương thức `.transform()` của nó."
   ]
  },
  {
   "cell_type": "code",
   "execution_count": 124,
   "metadata": {},
   "outputs": [
    {
     "name": "stdout",
     "output_type": "stream",
     "text": [
      "+--------------------+----+------------------+\n",
      "|            features|medv|        prediction|\n",
      "+--------------------+----+------------------+\n",
      "|[6.575,0.00632,4.98]|24.0|28.857717647784423|\n",
      "|[6.421,0.02731,9.14]|21.6|25.645644850540144|\n",
      "|[7.185,0.02729,4.03]|34.7| 32.58746300992212|\n",
      "|[6.998,0.03237,2.94]|33.4| 32.24191904275643|\n",
      "|[7.147,0.06905,5.33]|36.2| 31.63288834584224|\n",
      "+--------------------+----+------------------+\n",
      "only showing top 5 rows\n",
      "\n"
     ]
    }
   ],
   "source": [
    "predictionDF = lrModel.transform(subsetDF)\n",
    "\n",
    "predictionDF.show(5)"
   ]
  },
  {
   "cell_type": "markdown",
   "metadata": {},
   "source": [
    "Bây giờ, ta thử dự đoán giá nhà cho một điểm dữ liệu mới của một ngôi nhà 6 phòng ngủ (`rm = 6`), với tỷ lệ tội phạm là 3.6 (`crim = 3.6`), và tầng lớp có thu nhập thấp hơn trung bình là 12% (`lstat = 12`). Theo công thức ở trên, mô hình sẽ dự đoán giá nhà khoảng 21."
   ]
  },
  {
   "cell_type": "code",
   "execution_count": 125,
   "metadata": {},
   "outputs": [
    {
     "name": "stdout",
     "output_type": "stream",
     "text": [
      "+--------------+------------------+\n",
      "|      features|        prediction|\n",
      "+--------------+------------------+\n",
      "|[6.0,3.6,12.0]|21.427061506649363|\n",
      "+--------------+------------------+\n",
      "\n"
     ]
    }
   ],
   "source": [
    "from pyspark.ml.linalg import Vectors\n",
    "\n",
    "data = [(Vectors.dense([6., 3.6, 12.]), )]              # Tạo new data point\n",
    "predictDF = spark.createDataFrame(data, [\"features\"])\n",
    "\n",
    "lrModel.transform(predictDF).show()"
   ]
  },
  {
   "cell_type": "markdown",
   "metadata": {},
   "source": [
    "### 1.9. Tạo ML pipeline và đánh giá dùng phương pháp hold out\n",
    "\n",
    "![holdout_model_selection](./image/holdout_model_selection.JPG)"
   ]
  },
  {
   "cell_type": "code",
   "execution_count": 126,
   "metadata": {},
   "outputs": [
    {
     "name": "stdout",
     "output_type": "stream",
     "text": [
      "[7.7366294084890095, 7.70373787178677, 7.702231388666923]\n",
      "('features=[7.249,0.01311,4.81], '\n",
      " 'scaledFeatures=[1.4164431814772305,-0.4648881655422324,-1.092220358196006], '\n",
      " 'label=35.4 -> prediction=32.31865958601522')\n",
      "('features=[7.135,0.01778,4.45], '\n",
      " 'scaledFeatures=[1.2499947891838228,-0.4642127043800687,-1.142381331431606], '\n",
      " 'label=32.9 -> prediction=31.945823700553785')\n",
      "('features=[6.516,0.0187,6.36], '\n",
      " 'scaledFeatures=[0.3462092205029505,-0.46407963708473876,-0.8762495012093932], '\n",
      " 'label=23.1 -> prediction=27.662350320859627')\n",
      "('features=[7.104,0.01951,8.05], '\n",
      " 'scaledFeatures=[1.2047325070689492,-0.4639624800095027,-0.6407715990756024], '\n",
      " 'label=33.0 -> prediction=29.681160418312835')\n",
      "('features=[8.034,0.02009,2.88], '\n",
      " 'scaledFeatures=[2.5626009705151724,-0.463878589758099,-1.36113890915353], '\n",
      " 'label=50.0 -> prediction=37.46230771138211')\n"
     ]
    }
   ],
   "source": [
    "from pyspark.ml.regression import LinearRegression\n",
    "from pyspark.ml import Pipeline\n",
    "from pyspark.ml.tuning import TrainValidationSplit, ParamGridBuilder\n",
    "from pyspark.ml.evaluation import RegressionEvaluator\n",
    "from pyspark.ml.feature import StandardScaler\n",
    "\n",
    "import pprint\n",
    "\n",
    "pp = pprint.PrettyPrinter(indent = 4)\n",
    "\n",
    "# Create a LinearRegression instance. This instance is an Estimator.\n",
    "lr = LinearRegression(labelCol=\"medv\", featuresCol=\"features\")\n",
    "\n",
    "# Create a StandardScaler to normalize each feature to have zero mean and unit standard deviation\n",
    "scaler = StandardScaler(inputCol = \"features\", outputCol = \"scaledFeatures\",\n",
    "                        withStd = True, withMean = True)\n",
    "\n",
    "# Configure an ML pipeline, which consists of two stages: scaler and lr.\n",
    "pipeline = Pipeline(stages = [scaler, lr])\n",
    "\n",
    "# Specify hyper-parameters\n",
    "paramGrid = ParamGridBuilder() \\\n",
    "    .addGrid(lr.regParam, [1, 0.1, 0.01]) \\\n",
    "    .build()\n",
    "\n",
    "# Train/test split\n",
    "trainDF, testDF = bostonFeaturizedDF.randomSplit([.8, .2], seed = 1)\n",
    "\n",
    "# Setup TrainValidationSplit \n",
    "# A TrainValidationSplit requires an Estimator, a set of Estimator ParamMaps, and an Evaluator.\n",
    "# trainRatio = 0.8: 80% of the data will be used for training, 20% for testing\n",
    "tvs = TrainValidationSplit(estimator = pipeline, \n",
    "                           estimatorParamMaps = paramGrid, \n",
    "                           evaluator = RegressionEvaluator(labelCol = \"medv\", metricName = \"rmse\"), \n",
    "                           trainRatio = 0.8)\n",
    "\n",
    "# Run TrainValidationSplit on training data, and choose the best set of parameters\n",
    "lrModel = tvs.fit(trainDF)\n",
    "\n",
    "# Print rmse on validation set for each `regParam`: 1, 0.1, 0.01\n",
    "print(lrModel.validationMetrics)\n",
    "\n",
    "# Make predictions on test data. cvModel uses the best model found (regParam = 0.1)\n",
    "prediction = lrModel.transform(testDF)\n",
    "result = prediction.select(\"features\", \"scaledFeatures\", \"medv\", \"prediction\").collect()\n",
    "\n",
    "# Print some predictions\n",
    "for row in result[0:5]:\n",
    "    pp.pprint(\"features=%s, scaledFeatures=%s, label=%s -> prediction=%s\" % \n",
    "              (row.features, row.scaledFeatures, row.medv, row.prediction))"
   ]
  },
  {
   "cell_type": "markdown",
   "metadata": {},
   "source": [
    "## II. Câu hỏi"
   ]
  },
  {
   "cell_type": "markdown",
   "metadata": {},
   "source": [
    "### **Câu hỏi 1**: Huấn luyện mô hình Linear Regression và dùng nó để dự đoán cho dữ liệu mới\n",
    "\n",
    "#### a. Tạo mô hình Linear Regression\n",
    "\n",
    "Tạo một mô hình linear regression mới với input là các biến `indus`, `age`, `dis`, và output là biến `medv`."
   ]
  },
  {
   "cell_type": "markdown",
   "metadata": {},
   "source": [
    "i. Tạo biến `newFeatures` cho huấn luyện mô hình"
   ]
  },
  {
   "cell_type": "code",
   "execution_count": 127,
   "metadata": {},
   "outputs": [],
   "source": [
    "# Write your code here\n",
    "from pyspark.ml.feature import VectorAssembler\n",
    "\n",
    "featureCols = [\"indus\", \"age\", \"dis\"] \n",
    "assembler = VectorAssembler(inputCols = featureCols, outputCol = \"newFeatures\")\n",
    "bostonFeaturizedDF = assembler.transform(bostonDF)"
   ]
  },
  {
   "cell_type": "markdown",
   "metadata": {},
   "source": [
    "ii. Huấn luyện mô hình"
   ]
  },
  {
   "cell_type": "code",
   "execution_count": 128,
   "metadata": {},
   "outputs": [],
   "source": [
    "# Write your code here\n",
    "from pyspark.ml.regression import LinearRegression\n",
    "\n",
    "lr = LinearRegression(labelCol=\"medv\", featuresCol=\"newFeatures\")\n",
    "lrModel = lr.fit(bostonFeaturizedDF)"
   ]
  },
  {
   "cell_type": "markdown",
   "metadata": {},
   "source": [
    "iii. In kết quả của mô hình (các hệ số và $R^2$ score )"
   ]
  },
  {
   "cell_type": "code",
   "execution_count": 129,
   "metadata": {},
   "outputs": [
    {
     "name": "stdout",
     "output_type": "stream",
     "text": [
      "Coefficients: -0.736, -0.094, -1.545\n",
      "Intercept: 43.034\n",
      "R-squared: 0.285\n"
     ]
    }
   ],
   "source": [
    "# Write your code here\n",
    "print(\"Coefficients: {0:.3f}, {1:.3f}, {2:.3f}\".format(*lrModel.coefficients)) \n",
    "print(\"Intercept: {0:.3f}\".format(lrModel.intercept))\n",
    "print(\"R-squared: {0:.3f}\".format(lrModel.summary.r2))\n"
   ]
  },
  {
   "cell_type": "markdown",
   "metadata": {},
   "source": [
    "iv. Diễn giải các hệ số (`Coefficients`, `Intercept`), $R^2$ `score`, `RMSE score`, các `Standard Errors`, `t-values`, `p-values` của mô hình."
   ]
  },
  {
   "cell_type": "code",
   "execution_count": 130,
   "metadata": {},
   "outputs": [
    {
     "name": "stdout",
     "output_type": "stream",
     "text": [
      "MAE score: 5.560969336121602\n",
      "RMSE score: 7.766715476913002\n",
      "Coefficient Standard Errors: [0.07389071808161016, 0.019157338599964224, 0.27719285411308525, 2.315290077905648]\n",
      "T Values: [-9.954031888835738, -4.907552574046968, -5.573530886805173, 18.58698533272279]\n",
      "P Values: [0.0, 1.2485850908738882e-06, 4.079797522038575e-08, 0.0]\n"
     ]
    }
   ],
   "source": [
    "# Write your code here\n",
    "lrModelSummary = lrModel.summary\n",
    "\n",
    "print(\"MAE score: {}\".format(lrModelSummary.meanAbsoluteError))\n",
    "print(\"RMSE score: {}\".format(lrModelSummary.rootMeanSquaredError))\n",
    "print(\"Coefficient Standard Errors: \" + str(lrModelSummary.coefficientStandardErrors))\n",
    "print(\"T Values: \" + str(lrModelSummary.tValues))\n",
    "print(\"P Values: \" + str(lrModelSummary.pValues))"
   ]
  },
  {
   "cell_type": "markdown",
   "metadata": {},
   "source": []
  },
  {
   "cell_type": "markdown",
   "metadata": {},
   "source": [
    "#### b. Sử dụng mô hình\n",
    "\n",
    "Dùng mô hình huấn luyện được để dự đoán cho các điểm dữ liệu mới có (`indus`, `age`, `dis`) lần lượt là `(11, 68, 4)`, `(6, 35, 2)`, `(19, 74, 8)`."
   ]
  },
  {
   "cell_type": "code",
   "execution_count": 131,
   "metadata": {},
   "outputs": [
    {
     "name": "stdout",
     "output_type": "stream",
     "text": [
      "+-----+---+---+---------------+------------------+\n",
      "|indus|age|dis|    newFeatures|        prediction|\n",
      "+-----+---+---+---------------+------------------+\n",
      "|   11| 68|  4|[11.0,68.0,4.0]|22.370810825866748|\n",
      "|    6| 35|  2| [6.0,35.0,2.0]| 32.24076584405401|\n",
      "|   19| 74|  8|[19.0,74.0,8.0]|  9.74286069912749|\n",
      "+-----+---+---+---------------+------------------+\n",
      "\n"
     ]
    }
   ],
   "source": [
    "# Write your code here\n",
    "assembler = VectorAssembler(inputCols=[\"indus\", \"age\", \"dis\"], \n",
    "                           outputCol=\"newFeatures\")\n",
    "data = [(11, 68, 4), (6, 35, 2), (19, 74, 8)]\n",
    "predictions_df = lrModel.transform(new_data_df)\n",
    "predictions_df.show()\n"
   ]
  },
  {
   "cell_type": "markdown",
   "metadata": {},
   "source": [
    "### **Câu hỏi 2**: Train/test split"
   ]
  },
  {
   "cell_type": "markdown",
   "metadata": {},
   "source": [
    "Tiếp tục với input là các biến `indus`, `age`, `dis`, và output là biến `medv`.\n",
    "\n",
    "Giữa $80\\%$ dữ liệu để làm training set, $20\\%$ còn lại để làm test set, thế giá trị của `seed` là MSSV của bạn."
   ]
  },
  {
   "cell_type": "code",
   "execution_count": 132,
   "metadata": {},
   "outputs": [
    {
     "name": "stdout",
     "output_type": "stream",
     "text": [
      "Số phần tử trong training set: 397\n",
      "Số phần tử trong test set: 109\n"
     ]
    }
   ],
   "source": [
    "trainDF, testDF = bostonFeaturizedDF.randomSplit([.8, .2], seed = 20133065)\n",
    "print(f\"Số phần tử trong training set: {trainDF.cache().count()}\")\n",
    "print(f\"Số phần tử trong test set: {testDF.cache().count()}\")"
   ]
  },
  {
   "cell_type": "markdown",
   "metadata": {},
   "source": [
    "#### a. Thực hiện lại các bước tương tự như hương dẫn ở trên "
   ]
  },
  {
   "cell_type": "markdown",
   "metadata": {},
   "source": [
    "i. Huấn luyện mô hình trên training set"
   ]
  },
  {
   "cell_type": "code",
   "execution_count": 133,
   "metadata": {},
   "outputs": [],
   "source": [
    "# Write your code here\n",
    "trainDF, testDF = bostonFeaturizedDF.randomSplit([.8, .2], seed=20133065) \n",
    "\n",
    "lr = LinearRegression(labelCol=\"medv\", featuresCol=\"newFeatures\")\n",
    "lrModel = lr.fit(trainDF)"
   ]
  },
  {
   "cell_type": "markdown",
   "metadata": {},
   "source": [
    "ii. In kết quả của mô hình (các hệ số (`Coefficients`, `Intercept`), `RMSE score`, và $R^2$ `score`) trên training set"
   ]
  },
  {
   "cell_type": "code",
   "execution_count": 134,
   "metadata": {},
   "outputs": [
    {
     "name": "stdout",
     "output_type": "stream",
     "text": [
      "Coefficients: -0.706, -0.097, -1.408\n",
      "Intercept: 42.080\n",
      "R-squared score: 0.301\n",
      "MAE score: 5.304290311363103\n",
      "RMSE score: 7.413062201507511\n",
      "Coefficient Standard Errors: [0.08256773124569486, 0.020808455699436276, 0.303412578990576, 2.5303820412657405]\n",
      "T Values: [-8.550991982037688, -4.6542272115174645, -4.640201821615346, 16.630091552018097]\n",
      "P Values: [2.220446049250313e-16, 4.4530526539521276e-06, 4.749335799081322e-06, 0.0]\n"
     ]
    }
   ],
   "source": [
    "# Write your code here\n",
    "print(\"Coefficients: {0:.3f}, {1:.3f}, {2:.3f}\".format(*lrModel.coefficients)) \n",
    "print(\"Intercept: {0:.3f}\".format(lrModel.intercept))\n",
    "print(\"R-squared score: {0:.3f}\".format(lrModel.summary.r2))\n",
    "\n",
    "# Write your code here\n",
    "lrModelSummary = lrModel.summary\n",
    "\n",
    "print(\"MAE score: {}\".format(lrModelSummary.meanAbsoluteError))\n",
    "print(\"RMSE score: {}\".format(lrModelSummary.rootMeanSquaredError))\n",
    "print(\"Coefficient Standard Errors: \" + str(lrModelSummary.coefficientStandardErrors))\n",
    "print(\"T Values: \" + str(lrModelSummary.tValues))\n",
    "print(\"P Values: \" + str(lrModelSummary.pValues))"
   ]
  },
  {
   "cell_type": "markdown",
   "metadata": {},
   "source": [
    "b. Đánh giá mô hình trên test set (in ra `RMSE score`)"
   ]
  },
  {
   "cell_type": "code",
   "execution_count": 135,
   "metadata": {},
   "outputs": [
    {
     "name": "stdout",
     "output_type": "stream",
     "text": [
      "RMSE on test set: 8.97642822175228\n"
     ]
    }
   ],
   "source": [
    "# Write your code here\n",
    "predictionDF = lrModel.transform(testDF)\n",
    "rmse = predictionDF.rdd.map(lambda r: (r.medv - r.prediction)**2).mean()**0.5\n",
    "print(\"RMSE on test set:\", rmse)"
   ]
  },
  {
   "cell_type": "markdown",
   "metadata": {},
   "source": [
    "### **Câu hỏi 3**: Regularization với Ridge, Lasso, và ElasticNet regression"
   ]
  },
  {
   "cell_type": "markdown",
   "metadata": {},
   "source": [
    "Tiếp tục với input là các biến `indus`, `age`, `dis`, và output là biến `medv`.\n",
    "\n",
    "Điều chỉnh các tham số `regParam` (or `lambda`, regularization parameter) và `elasticNetParam` (or `alpha`, the ElasticNet mixing parameter, in range [0, 1]. For `alpha = 0`, the penalty is an `L2 penalty`. For `alpha = 1`, it is an `L1 penalty`.) của `LinearRegression`. Xem thêm ở [đây](https://spark.apache.org/docs/latest/api/python/reference/api/pyspark.ml.regression.LinearRegression.html#pyspark.ml.regression.LinearRegression).\n",
    "\n",
    "- `regParam = 0`: ordinary least squares (OLS)\n",
    "\n",
    "- `regParam != 0, elasticNetParam = 0`: L2 (Ridge regression)\n",
    "\n",
    "- `regParam != 0, elasticNetParam = 1`: L1 (Lasso regression)\n",
    "\n",
    "- `regParam != 0, elasticNetParam != 0`: L2 + L1 (ElasticNet regression)"
   ]
  },
  {
   "cell_type": "markdown",
   "metadata": {},
   "source": [
    "#### a. `regParam = 0`: ordinary least squares\n",
    "\n",
    "Thiết lập `regParam = 0` để tạo mô hình Linear Regression."
   ]
  },
  {
   "cell_type": "code",
   "execution_count": 136,
   "metadata": {},
   "outputs": [],
   "source": [
    "# Write your code here\n",
    "lr = LinearRegression(labelCol=\"medv\", featuresCol=\"newFeatures\", regParam=0)\n"
   ]
  },
  {
   "cell_type": "markdown",
   "metadata": {},
   "source": [
    "#### b. `regParam != 0, elasticNetParam = 0`: L2 (Ridge Regression)\n",
    "\n",
    "Chọn một giá trị khác 0 cho tham số `regParam` để tạo mô hình Ridge Regression."
   ]
  },
  {
   "cell_type": "code",
   "execution_count": 137,
   "metadata": {},
   "outputs": [],
   "source": [
    "# Write your code here\n",
    "lr = LinearRegression(labelCol=\"medv\", featuresCol=\"newFeatures\", regParam=0.3)"
   ]
  },
  {
   "cell_type": "markdown",
   "metadata": {},
   "source": [
    "#### c. `regParam != 0, elasticNetParam = 1`: L1 (Lasso regression)\n",
    "\n",
    "Chọn một giá trị khác 0 cho tham số `regParam` và thiết lập `elasticNetParam = 1` để tạo mô hình Lasso Regression."
   ]
  },
  {
   "cell_type": "code",
   "execution_count": 138,
   "metadata": {},
   "outputs": [],
   "source": [
    "# Write your code here\n",
    "lr = LinearRegression(labelCol=\"medv\", featuresCol=\"newFeatures\", \n",
    "                      regParam=0.3, elasticNetParam=1)"
   ]
  },
  {
   "cell_type": "markdown",
   "metadata": {},
   "source": [
    "#### d. `regParam != 0, elasticNetParam != 0`: L2 + L1 (ElasticNet Regression)\n",
    "\n",
    "Chọn hai giá trị khác 0 cho tham số `regParam` và `elasticNetParam` để tạo mô hình ElasticNet Regression."
   ]
  },
  {
   "cell_type": "code",
   "execution_count": 139,
   "metadata": {},
   "outputs": [],
   "source": [
    "# Write your code here\n",
    "lr = LinearRegression(labelCol=\"medv\", featuresCol=\"newFeatures\",  \n",
    "                      regParam=0.3, elasticNetParam=0.5)"
   ]
  },
  {
   "cell_type": "markdown",
   "metadata": {},
   "source": [
    "#### e. Nhận xét kết quả của các mô hình ở a, b, c, d.\n",
    "\n",
    "- OLS có sự phù hợp tốt nhất (R-squared cao nhất) nhưng có thể phù hợp quá mức (overfitting). Các hệ số có thể không ổn định.\n",
    "\n",
    "- Ridge regression thu hẹp các hệ số một chút so với OLS. Có thể giảm thiểu hiện tượng quá phù hợp.\n",
    "\n",
    "- Lasso thu nhỏ một số hệ số về 0, dẫn đến lựa chọn tính năng. Có thể không phù hợp.(underfitting).\n",
    "\n",
    "- ElasticNet cân bằng giữa ridge và lasso. Thu hẹp lại các hệ số và lựa chọn đặc tính."
   ]
  },
  {
   "cell_type": "markdown",
   "metadata": {},
   "source": [
    "### **Câu hỏi 4**: Tạo ML pipeline và đánh giá các mô hình dùng cross validation\n",
    "\n",
    "![cross-validation-model-selection](./image/cross_val.png)\n",
    "\n",
    "**Tham khảo**\n",
    "1. ML Pipeline: https://spark.apache.org/docs/latest/ml-pipeline.html\n",
    "2. ML Tuning: https://spark.apache.org/docs/latest/ml-tuning.html\n",
    "\n",
    "\n",
    "\n",
    "**Lưu ý:** \n",
    "\n",
    "- Ở câu hỏi này, bạn cần sử dụng tất cả các thuộc tính khác `medv` làm input (`features`) và `medv` làm output (`label`) để tận dụng tối đa thông tin đã có nhất có thể.\n",
    "\n",
    "- Bạn cần thiết lập các tham số `regParam` và `elasticNetParam` là một danh sách các giá trị để bao gồm các mô hình Linear Regression, Ridge Regression, Lasso Regression, và ElasticNet Regression. Mỗi tham số tối thiểu 5 giá trị khác nhau. Chú ý rằng: \n",
    "\n",
    "    - `regParam != 0` và `elasticNetParam = 0` ứng với Ridge Regression\n",
    "    \n",
    "    - `regParam != 0` và `elasticNetParam = 1` ứng với Lasso Regression\n",
    "    \n",
    "    - `regParam != 0` và `elasticNetParam != 0` ứng với ElasticNet Regression"
   ]
  },
  {
   "cell_type": "code",
   "execution_count": 146,
   "metadata": {},
   "outputs": [
    {
     "name": "stdout",
     "output_type": "stream",
     "text": [
      "[4.836735193574292, 4.836735193574292, 4.836735193574292, 4.836735193574292, 4.836735193574292, 4.830237395682609, 4.833419359129912, 4.8429905125768595, 4.858842985776664, 4.880664734779788, 4.839292857082275, 4.934230204326296, 5.026545690387849, 5.113077519265535, 5.201474048510017, 4.873374124875299, 5.060512439140187, 5.230054526696715, 5.318132153565073, 5.394920577848017, 5.239068773477873, 5.840761399347094, 6.402189920941031, 7.094414244004282, 7.866986834355373]\n"
     ]
    }
   ],
   "source": [
    "from pyspark.ml import Pipeline\n",
    "from pyspark.ml.feature import VectorAssembler, StandardScaler\n",
    "from pyspark.ml.tuning import CrossValidator, ParamGridBuilder\n",
    "from pyspark.ml.evaluation import RegressionEvaluator\n",
    "\n",
    "featureCols = [col for col in bostonDF.columns if col != \"medv\"]\n",
    "\n",
    "labelCol = \"medv\"\n",
    "\n",
    "# Tạo VectorAssembler để tổng hợp các đặc trưng thành một vector\n",
    "assembler = VectorAssembler(inputCols=featureCols, outputCol=\"features\")\n",
    "\n",
    "# Tạo StandardScaler để chuẩn hóa các đặc trưng\n",
    "scaler = StandardScaler(inputCol=\"features\", outputCol=\"scaledFeatures\")\n",
    "\n",
    "lr = LinearRegression(labelCol=labelCol)\n",
    "\n",
    "# # Định nghĩa lưới siêu tham số\n",
    "paramGrid = ParamGridBuilder() \\\n",
    "             .addGrid(lr.regParam, [0, 0.1, 0.5, 1, 5]) \\\n",
    "             .addGrid(lr.elasticNetParam, [0, 0.25, 0.5, 0.75, 1]) \\\n",
    "             .build()\n",
    "\n",
    "# Tạo một luồng xử lý với các bước tổng hợp, chuẩn hóa và hồi quy tuyến tính\n",
    "pipeline = Pipeline(stages=[assembler, scaler, lr])\n",
    "\n",
    "# Tạo CrossValidator\n",
    "cv = CrossValidator(estimator=pipeline,\n",
    "                    estimatorParamMaps=paramGrid,\n",
    "                    evaluator=RegressionEvaluator(labelCol=labelCol),\n",
    "                    numFolds=5)\n",
    "\n",
    "# Fit CrossValidator với dữ liệu\n",
    "\n",
    "cvModel = cv.fit(bostonDF)\n",
    "print(cvModel.avgMetrics)"
   ]
  },
  {
   "cell_type": "code",
   "execution_count": 145,
   "metadata": {},
   "outputs": [
    {
     "name": "stdout",
     "output_type": "stream",
     "text": [
      "Coefficients: [-0.1031906901220606,0.04316811447289023,0.004052925895829607,2.750729094487936,-16.53255974895831,3.8694101483472267,-0.00042149591563641643,-1.4083274585771506,0.2663450605042258,-0.010445793259135331,-0.933110286382306,0.00928534810269963,-0.5151666620024974]\n",
      "Intercept: 34.55457074284347\n",
      "R-squared: 0.7403355590299989\n"
     ]
    }
   ],
   "source": [
    "best_model = cvModel.bestModel\n",
    "\n",
    "coefficients = best_model.stages[-1].coefficients\n",
    "intercept = best_model.stages[-1].intercept\n",
    "\n",
    "print(\"Coefficients: \" + str(coefficients))\n",
    "print(\"Intercept: \" + str(intercept))\n",
    "\n",
    "# Tính và in ra R-squared cho mô hình tốt nhất\n",
    "predictions_best = cvModel.bestModel.transform(bostonDF)\n",
    "evaluator = RegressionEvaluator(labelCol=\"medv\", predictionCol=\"prediction\", metricName=\"r2\")\n",
    "r2 = evaluator.evaluate(predictions_best)\n",
    "print(\"R-squared: \" + str(r2))\n"
   ]
  },
  {
   "cell_type": "markdown",
   "metadata": {},
   "source": [
    "#### Nhận xét, so sánh kết quả của các mô hình Linear Regression, Ridge Regression, Lasso Regression, và ElasticNet Regression\n",
    "\n",
    "- Mô hình Hồi quy Tuyến tính thường cho kết quả phù hợp tốt nhất (R-squared cao nhất) nhưng có thể bị quá khớp (overfitting). Các hệ số có thể không ổn định.\n",
    "\n",
    "- Mô hình Hồi quy Ridge thu hẹp các hệ số một chút so với Hồi quy Tuyến tính. Điều này có thể giúp giảm hiện tượng quá khớp.\n",
    "\n",
    "- Mô hình Hồi quy Lasso thu nhỏ một số hệ số về 0, dẫn đến việc lựa chọn đặc trưng. Nhưng nó có thể bị không khớp (underfitting).\n",
    "\n",
    "- Mô hình Hồi quy ElasticNet cân bằng giữa Ridge và Lasso. Nó vừa thu hẹp các hệ số vừa lựa chọn đặc trưng.\n",
    "\n",
    "\n",
    "- Mô hình ElasticNet đạt R-squared tốt nhất là 0,74 trong khi vẫn giữ được tính điều chuẩn để tránh overfitting. Việc kiểm chứng chéo giúp tìm ra các giá trị tốt cho các tham số điều chuẩn alpha và lambda.\n",
    "\n",
    "- So với Hồi quy Tuyến tính, Ridge, Lasso và ElasticNet áp dụng điều chuẩn giúp cải thiện khả năng khái quát hóa và ổn định của mô hình. Lasso làm giảm mạnh hệ số hơn nhưng ElasticNet cung cấp sự cân bằng tốt hơn.\n",
    "- Kết luận : Hồi quy ElasticNet hoạt động tốt nhất cho tập dữ liệu này bằng cách tìm ra điểm cân bằng giữa giới hạn overfitting thông qua điều chuẩn trong khi vẫn duy trì độ phù hợp mô hình\n"
   ]
  }
 ],
 "metadata": {
  "interpreter": {
   "hash": "ff4f85d6e04298634172ac5d8264e7e9b556b95639fe52ebb9425c4d4cba0c9c"
  },
  "kernelspec": {
   "display_name": "Python 3",
   "language": "python",
   "name": "python3"
  },
  "language_info": {
   "codemirror_mode": {
    "name": "ipython",
    "version": 3
   },
   "file_extension": ".py",
   "mimetype": "text/x-python",
   "name": "python",
   "nbconvert_exporter": "python",
   "pygments_lexer": "ipython3",
   "version": "3.11.0"
  }
 },
 "nbformat": 4,
 "nbformat_minor": 4
}
